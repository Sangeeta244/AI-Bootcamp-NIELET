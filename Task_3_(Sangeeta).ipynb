{
  "nbformat": 4,
  "nbformat_minor": 0,
  "metadata": {
    "colab": {
      "provenance": []
    },
    "kernelspec": {
      "name": "python3",
      "display_name": "Python 3"
    },
    "language_info": {
      "name": "python"
    }
  },
  "cells": [
    {
      "cell_type": "code",
      "execution_count": 1,
      "metadata": {
        "colab": {
          "base_uri": "https://localhost:8080/"
        },
        "id": "edftUkRxiax6",
        "outputId": "79836f1c-467d-4bcf-8f4c-b111be3bb591"
      },
      "outputs": [
        {
          "output_type": "stream",
          "name": "stdout",
          "text": [
            "Enter first number22\n",
            "Enter second number11\n",
            "Result= 242\n"
          ]
        }
      ],
      "source": [
        "a = int(input(\"Enter first number\"))\n",
        "b = int(input(\"Enter second number\"))\n",
        "c = a*b\n",
        "print(\"Result=\",c)"
      ]
    }
  ]
}